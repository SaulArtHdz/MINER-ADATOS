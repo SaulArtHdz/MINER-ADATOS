{
 "cells": [
  {
   "cell_type": "markdown",
   "metadata": {},
   "source": [
    "# Saúl Arath Hernández Hernández - Mat. 1815642\n",
    "\n",
    "## TAREA - PÍA PÓSTER. \n",
    "\n",
    "* Dada una base de datos en grupo, realizar las diferentes técnicas de pre procesamiento de datos. Pueden ser las mencionadas en esta práctica, o pueden agregar nuevas. Los temas que tienen que tocar de manera obligatoria. "
   ]
  },
  {
   "cell_type": "markdown",
   "metadata": {},
   "source": [
    "* **Importar librerias y base de datos.**"
   ]
  },
  {
   "cell_type": "code",
   "execution_count": 1,
   "metadata": {},
   "outputs": [],
   "source": [
    "import pandas as pd\n",
    "import numpy as np"
   ]
  },
  {
   "cell_type": "code",
   "execution_count": 33,
   "metadata": {},
   "outputs": [],
   "source": [
    "#Leyendo la base de datos.\n",
    "\n",
    "data_frame = pd.read_csv(\"Stats_Prueba.csv\")"
   ]
  },
  {
   "cell_type": "markdown",
   "metadata": {},
   "source": [
    "* **Visualización de los datos.** \n"
   ]
  },
  {
   "cell_type": "code",
   "execution_count": 26,
   "metadata": {},
   "outputs": [
    {
     "data": {
      "text/plain": [
       "(53798, 31)"
      ]
     },
     "execution_count": 26,
     "metadata": {},
     "output_type": "execute_result"
    }
   ],
   "source": [
    "data_frame.shape # Número de filas y columnas."
   ]
  },
  {
   "cell_type": "code",
   "execution_count": 34,
   "metadata": {},
   "outputs": [
    {
     "data": {
      "text/html": [
       "<div>\n",
       "<style scoped>\n",
       "    .dataframe tbody tr th:only-of-type {\n",
       "        vertical-align: middle;\n",
       "    }\n",
       "\n",
       "    .dataframe tbody tr th {\n",
       "        vertical-align: top;\n",
       "    }\n",
       "\n",
       "    .dataframe thead th {\n",
       "        text-align: right;\n",
       "    }\n",
       "</style>\n",
       "<table border=\"1\" class=\"dataframe\">\n",
       "  <thead>\n",
       "    <tr style=\"text-align: right;\">\n",
       "      <th></th>\n",
       "      <th>League</th>\n",
       "      <th>Season</th>\n",
       "      <th>Stage</th>\n",
       "      <th>Player</th>\n",
       "      <th>Team</th>\n",
       "      <th>GP</th>\n",
       "      <th>MIN</th>\n",
       "      <th>FGM</th>\n",
       "      <th>FGA</th>\n",
       "      <th>3PM</th>\n",
       "      <th>...</th>\n",
       "      <th>PTS</th>\n",
       "      <th>birth_year</th>\n",
       "      <th>birth_month</th>\n",
       "      <th>birth_date</th>\n",
       "      <th>height</th>\n",
       "      <th>height_cm</th>\n",
       "      <th>weight_lb</th>\n",
       "      <th>weight_kg</th>\n",
       "      <th>nationality</th>\n",
       "      <th>high_school</th>\n",
       "    </tr>\n",
       "  </thead>\n",
       "  <tbody>\n",
       "    <tr>\n",
       "      <th>0</th>\n",
       "      <td>NBA</td>\n",
       "      <td>2019 - 2020</td>\n",
       "      <td>Regular_Season</td>\n",
       "      <td>James Harden</td>\n",
       "      <td>HOU</td>\n",
       "      <td>68</td>\n",
       "      <td>2482.6</td>\n",
       "      <td>672</td>\n",
       "      <td>1514</td>\n",
       "      <td>299</td>\n",
       "      <td>...</td>\n",
       "      <td>2335</td>\n",
       "      <td>1989.0</td>\n",
       "      <td>Aug</td>\n",
       "      <td>Aug 26, 1989</td>\n",
       "      <td>06-may</td>\n",
       "      <td>196.0</td>\n",
       "      <td>220.0</td>\n",
       "      <td>100.0</td>\n",
       "      <td>United States</td>\n",
       "      <td>Artesia High School</td>\n",
       "    </tr>\n",
       "    <tr>\n",
       "      <th>1</th>\n",
       "      <td>NBA</td>\n",
       "      <td>2019 - 2020</td>\n",
       "      <td>Regular_Season</td>\n",
       "      <td>Damian Lillard</td>\n",
       "      <td>POR</td>\n",
       "      <td>66</td>\n",
       "      <td>2473.7</td>\n",
       "      <td>624</td>\n",
       "      <td>1349</td>\n",
       "      <td>270</td>\n",
       "      <td>...</td>\n",
       "      <td>1978</td>\n",
       "      <td>1990.0</td>\n",
       "      <td>Jul</td>\n",
       "      <td>Jul 15, 1990</td>\n",
       "      <td>06-mar</td>\n",
       "      <td>191.0</td>\n",
       "      <td>195.0</td>\n",
       "      <td>88.0</td>\n",
       "      <td>United States</td>\n",
       "      <td>Oakland High School</td>\n",
       "    </tr>\n",
       "    <tr>\n",
       "      <th>2</th>\n",
       "      <td>NBA</td>\n",
       "      <td>2019 - 2020</td>\n",
       "      <td>Regular_Season</td>\n",
       "      <td>Devin Booker</td>\n",
       "      <td>PHX</td>\n",
       "      <td>70</td>\n",
       "      <td>2511.8</td>\n",
       "      <td>627</td>\n",
       "      <td>1283</td>\n",
       "      <td>141</td>\n",
       "      <td>...</td>\n",
       "      <td>1863</td>\n",
       "      <td>1996.0</td>\n",
       "      <td>Oct</td>\n",
       "      <td>Oct 30, 1996</td>\n",
       "      <td>06-jun</td>\n",
       "      <td>198.0</td>\n",
       "      <td>206.0</td>\n",
       "      <td>93.0</td>\n",
       "      <td>United States</td>\n",
       "      <td>Moss Point High School</td>\n",
       "    </tr>\n",
       "    <tr>\n",
       "      <th>3</th>\n",
       "      <td>NBA</td>\n",
       "      <td>2019 - 2020</td>\n",
       "      <td>Regular_Season</td>\n",
       "      <td>Giannis Antetokounmpo</td>\n",
       "      <td>MIL</td>\n",
       "      <td>63</td>\n",
       "      <td>1916.9</td>\n",
       "      <td>685</td>\n",
       "      <td>1238</td>\n",
       "      <td>89</td>\n",
       "      <td>...</td>\n",
       "      <td>1857</td>\n",
       "      <td>1994.0</td>\n",
       "      <td>Dec</td>\n",
       "      <td>Dec 6, 1994</td>\n",
       "      <td>06-nov</td>\n",
       "      <td>211.0</td>\n",
       "      <td>242.0</td>\n",
       "      <td>110.0</td>\n",
       "      <td>Greece / Nigeria</td>\n",
       "      <td>NaN</td>\n",
       "    </tr>\n",
       "    <tr>\n",
       "      <th>4</th>\n",
       "      <td>NBA</td>\n",
       "      <td>2019 - 2020</td>\n",
       "      <td>Regular_Season</td>\n",
       "      <td>Trae Young</td>\n",
       "      <td>ATL</td>\n",
       "      <td>60</td>\n",
       "      <td>2120.1</td>\n",
       "      <td>546</td>\n",
       "      <td>1249</td>\n",
       "      <td>205</td>\n",
       "      <td>...</td>\n",
       "      <td>1778</td>\n",
       "      <td>1998.0</td>\n",
       "      <td>Sep</td>\n",
       "      <td>Sep 19, 1998</td>\n",
       "      <td>06-feb</td>\n",
       "      <td>188.0</td>\n",
       "      <td>180.0</td>\n",
       "      <td>82.0</td>\n",
       "      <td>United States</td>\n",
       "      <td>Norman High School</td>\n",
       "    </tr>\n",
       "  </tbody>\n",
       "</table>\n",
       "<p>5 rows × 31 columns</p>\n",
       "</div>"
      ],
      "text/plain": [
       "  League       Season           Stage                 Player Team  GP     MIN  \\\n",
       "0    NBA  2019 - 2020  Regular_Season           James Harden  HOU  68  2482.6   \n",
       "1    NBA  2019 - 2020  Regular_Season         Damian Lillard  POR  66  2473.7   \n",
       "2    NBA  2019 - 2020  Regular_Season           Devin Booker  PHX  70  2511.8   \n",
       "3    NBA  2019 - 2020  Regular_Season  Giannis Antetokounmpo  MIL  63  1916.9   \n",
       "4    NBA  2019 - 2020  Regular_Season             Trae Young  ATL  60  2120.1   \n",
       "\n",
       "   FGM   FGA  3PM  ...   PTS  birth_year  birth_month    birth_date  height  \\\n",
       "0  672  1514  299  ...  2335      1989.0          Aug  Aug 26, 1989  06-may   \n",
       "1  624  1349  270  ...  1978      1990.0          Jul  Jul 15, 1990  06-mar   \n",
       "2  627  1283  141  ...  1863      1996.0          Oct  Oct 30, 1996  06-jun   \n",
       "3  685  1238   89  ...  1857      1994.0          Dec   Dec 6, 1994  06-nov   \n",
       "4  546  1249  205  ...  1778      1998.0          Sep  Sep 19, 1998  06-feb   \n",
       "\n",
       "   height_cm  weight_lb  weight_kg       nationality             high_school  \n",
       "0      196.0      220.0      100.0     United States     Artesia High School  \n",
       "1      191.0      195.0       88.0     United States     Oakland High School  \n",
       "2      198.0      206.0       93.0     United States  Moss Point High School  \n",
       "3      211.0      242.0      110.0  Greece / Nigeria                     NaN  \n",
       "4      188.0      180.0       82.0     United States      Norman High School  \n",
       "\n",
       "[5 rows x 31 columns]"
      ]
     },
     "execution_count": 34,
     "metadata": {},
     "output_type": "execute_result"
    }
   ],
   "source": [
    "data_frame.head() # Primeros cinco elementos de las columnas."
   ]
  },
  {
   "cell_type": "code",
   "execution_count": 28,
   "metadata": {},
   "outputs": [
    {
     "data": {
      "text/html": [
       "<div>\n",
       "<style scoped>\n",
       "    .dataframe tbody tr th:only-of-type {\n",
       "        vertical-align: middle;\n",
       "    }\n",
       "\n",
       "    .dataframe tbody tr th {\n",
       "        vertical-align: top;\n",
       "    }\n",
       "\n",
       "    .dataframe thead th {\n",
       "        text-align: right;\n",
       "    }\n",
       "</style>\n",
       "<table border=\"1\" class=\"dataframe\">\n",
       "  <thead>\n",
       "    <tr style=\"text-align: right;\">\n",
       "      <th></th>\n",
       "      <th>League</th>\n",
       "      <th>Season</th>\n",
       "      <th>Stage</th>\n",
       "      <th>Player</th>\n",
       "      <th>Team</th>\n",
       "      <th>GP</th>\n",
       "      <th>MIN</th>\n",
       "      <th>FGM</th>\n",
       "      <th>FGA</th>\n",
       "      <th>3PM</th>\n",
       "      <th>...</th>\n",
       "      <th>PTS</th>\n",
       "      <th>birth_year</th>\n",
       "      <th>birth_month</th>\n",
       "      <th>birth_date</th>\n",
       "      <th>height</th>\n",
       "      <th>height_cm</th>\n",
       "      <th>weight_lb</th>\n",
       "      <th>weight_kg</th>\n",
       "      <th>nationality</th>\n",
       "      <th>high_school</th>\n",
       "    </tr>\n",
       "  </thead>\n",
       "  <tbody>\n",
       "    <tr>\n",
       "      <th>53793</th>\n",
       "      <td>NBA</td>\n",
       "      <td>1999 - 2000</td>\n",
       "      <td>Playoffs</td>\n",
       "      <td>John Salley</td>\n",
       "      <td>LAL</td>\n",
       "      <td>18</td>\n",
       "      <td>78.0</td>\n",
       "      <td>5</td>\n",
       "      <td>13</td>\n",
       "      <td>0</td>\n",
       "      <td>...</td>\n",
       "      <td>17</td>\n",
       "      <td>1964.0</td>\n",
       "      <td>May</td>\n",
       "      <td>May 16, 1964</td>\n",
       "      <td>06-nov</td>\n",
       "      <td>211.0</td>\n",
       "      <td>230.0</td>\n",
       "      <td>104.0</td>\n",
       "      <td>United States</td>\n",
       "      <td>Canarsie High School</td>\n",
       "    </tr>\n",
       "    <tr>\n",
       "      <th>53794</th>\n",
       "      <td>NBA</td>\n",
       "      <td>1999 - 2000</td>\n",
       "      <td>Playoffs</td>\n",
       "      <td>Muggsy Bogues</td>\n",
       "      <td>TOR</td>\n",
       "      <td>3</td>\n",
       "      <td>87.0</td>\n",
       "      <td>6</td>\n",
       "      <td>21</td>\n",
       "      <td>3</td>\n",
       "      <td>...</td>\n",
       "      <td>16</td>\n",
       "      <td>1965.0</td>\n",
       "      <td>Jan</td>\n",
       "      <td>Jan 9, 1965</td>\n",
       "      <td>05-mar</td>\n",
       "      <td>160.0</td>\n",
       "      <td>136.0</td>\n",
       "      <td>62.0</td>\n",
       "      <td>United States</td>\n",
       "      <td>Dunbar High School</td>\n",
       "    </tr>\n",
       "    <tr>\n",
       "      <th>53795</th>\n",
       "      <td>NBA</td>\n",
       "      <td>1999 - 2000</td>\n",
       "      <td>Playoffs</td>\n",
       "      <td>Jerome Williams</td>\n",
       "      <td>DET</td>\n",
       "      <td>3</td>\n",
       "      <td>73.0</td>\n",
       "      <td>7</td>\n",
       "      <td>14</td>\n",
       "      <td>0</td>\n",
       "      <td>...</td>\n",
       "      <td>15</td>\n",
       "      <td>1973.0</td>\n",
       "      <td>May</td>\n",
       "      <td>May 10, 1973</td>\n",
       "      <td>06-sep</td>\n",
       "      <td>206.0</td>\n",
       "      <td>206.0</td>\n",
       "      <td>93.0</td>\n",
       "      <td>United States</td>\n",
       "      <td>Magruder High School</td>\n",
       "    </tr>\n",
       "    <tr>\n",
       "      <th>53796</th>\n",
       "      <td>NBA</td>\n",
       "      <td>1999 - 2000</td>\n",
       "      <td>Playoffs</td>\n",
       "      <td>Randy Livingston</td>\n",
       "      <td>PHX</td>\n",
       "      <td>7</td>\n",
       "      <td>63.0</td>\n",
       "      <td>6</td>\n",
       "      <td>27</td>\n",
       "      <td>2</td>\n",
       "      <td>...</td>\n",
       "      <td>14</td>\n",
       "      <td>1975.0</td>\n",
       "      <td>Apr</td>\n",
       "      <td>Apr 2, 1975</td>\n",
       "      <td>06-abr</td>\n",
       "      <td>193.0</td>\n",
       "      <td>209.0</td>\n",
       "      <td>95.0</td>\n",
       "      <td>United States</td>\n",
       "      <td>Isidore Newman School</td>\n",
       "    </tr>\n",
       "    <tr>\n",
       "      <th>53797</th>\n",
       "      <td>NBA</td>\n",
       "      <td>1999 - 2000</td>\n",
       "      <td>Playoffs</td>\n",
       "      <td>Doug Christie</td>\n",
       "      <td>TOR</td>\n",
       "      <td>3</td>\n",
       "      <td>61.0</td>\n",
       "      <td>3</td>\n",
       "      <td>13</td>\n",
       "      <td>3</td>\n",
       "      <td>...</td>\n",
       "      <td>12</td>\n",
       "      <td>1970.0</td>\n",
       "      <td>May</td>\n",
       "      <td>May 9, 1970</td>\n",
       "      <td>06-jun</td>\n",
       "      <td>198.0</td>\n",
       "      <td>200.0</td>\n",
       "      <td>91.0</td>\n",
       "      <td>United States</td>\n",
       "      <td>Rainier Beach High School</td>\n",
       "    </tr>\n",
       "  </tbody>\n",
       "</table>\n",
       "<p>5 rows × 31 columns</p>\n",
       "</div>"
      ],
      "text/plain": [
       "      League       Season     Stage            Player Team  GP   MIN  FGM  \\\n",
       "53793    NBA  1999 - 2000  Playoffs       John Salley  LAL  18  78.0    5   \n",
       "53794    NBA  1999 - 2000  Playoffs     Muggsy Bogues  TOR   3  87.0    6   \n",
       "53795    NBA  1999 - 2000  Playoffs   Jerome Williams  DET   3  73.0    7   \n",
       "53796    NBA  1999 - 2000  Playoffs  Randy Livingston  PHX   7  63.0    6   \n",
       "53797    NBA  1999 - 2000  Playoffs     Doug Christie  TOR   3  61.0    3   \n",
       "\n",
       "       FGA  3PM  ...  PTS  birth_year  birth_month    birth_date  height  \\\n",
       "53793   13    0  ...   17      1964.0          May  May 16, 1964  06-nov   \n",
       "53794   21    3  ...   16      1965.0          Jan   Jan 9, 1965  05-mar   \n",
       "53795   14    0  ...   15      1973.0          May  May 10, 1973  06-sep   \n",
       "53796   27    2  ...   14      1975.0          Apr   Apr 2, 1975  06-abr   \n",
       "53797   13    3  ...   12      1970.0          May   May 9, 1970  06-jun   \n",
       "\n",
       "       height_cm  weight_lb  weight_kg    nationality  \\\n",
       "53793      211.0      230.0      104.0  United States   \n",
       "53794      160.0      136.0       62.0  United States   \n",
       "53795      206.0      206.0       93.0  United States   \n",
       "53796      193.0      209.0       95.0  United States   \n",
       "53797      198.0      200.0       91.0  United States   \n",
       "\n",
       "                     high_school  \n",
       "53793       Canarsie High School  \n",
       "53794        Dunbar High School   \n",
       "53795       Magruder High School  \n",
       "53796      Isidore Newman School  \n",
       "53797  Rainier Beach High School  \n",
       "\n",
       "[5 rows x 31 columns]"
      ]
     },
     "execution_count": 28,
     "metadata": {},
     "output_type": "execute_result"
    }
   ],
   "source": [
    "data_frame.tail() # Últimos cinco elementos de las columnas."
   ]
  },
  {
   "cell_type": "markdown",
   "metadata": {},
   "source": [
    "* **Desripción básica de columnas.**"
   ]
  },
  {
   "cell_type": "code",
   "execution_count": 35,
   "metadata": {},
   "outputs": [
    {
     "data": {
      "text/plain": [
       "Index(['League', 'Season', 'Stage', 'Player', 'Team', 'GP', 'MIN', 'FGM',\n",
       "       'FGA', '3PM', '3PA', 'FTM', 'FTA', 'TOV', 'PF', 'ORB', 'DRB', 'REB',\n",
       "       'AST', 'STL', 'BLK', 'PTS', 'birth_year', 'birth_month', 'birth_date',\n",
       "       'height', 'height_cm', 'weight_lb', 'weight_kg', 'nationality',\n",
       "       'high_school'],\n",
       "      dtype='object')"
      ]
     },
     "execution_count": 35,
     "metadata": {},
     "output_type": "execute_result"
    }
   ],
   "source": [
    "data_frame.columns # Nombres de las columnas."
   ]
  },
  {
   "cell_type": "code",
   "execution_count": 36,
   "metadata": {},
   "outputs": [
    {
     "data": {
      "text/plain": [
       "League          object\n",
       "Season          object\n",
       "Stage           object\n",
       "Player          object\n",
       "Team            object\n",
       "GP               int64\n",
       "MIN            float64\n",
       "FGM              int64\n",
       "FGA              int64\n",
       "3PM              int64\n",
       "3PA              int64\n",
       "FTM              int64\n",
       "FTA              int64\n",
       "TOV              int64\n",
       "PF               int64\n",
       "ORB              int64\n",
       "DRB              int64\n",
       "REB              int64\n",
       "AST              int64\n",
       "STL              int64\n",
       "BLK              int64\n",
       "PTS              int64\n",
       "birth_year     float64\n",
       "birth_month     object\n",
       "birth_date      object\n",
       "height          object\n",
       "height_cm      float64\n",
       "weight_lb      float64\n",
       "weight_kg      float64\n",
       "nationality     object\n",
       "high_school     object\n",
       "dtype: object"
      ]
     },
     "execution_count": 36,
     "metadata": {},
     "output_type": "execute_result"
    }
   ],
   "source": [
    "data_frame.dtypes # Información sobre el tipo de dato. "
   ]
  },
  {
   "cell_type": "markdown",
   "metadata": {},
   "source": [
    "Para nuestra base de datos, tenemos datos de tipo objeto, flotantes y enteros.\n",
    "Por el momento no nos vemos en la necesidad de cambiar nuestras variables ya que todas están bien definidas, por lo que las dejamos así para cuestión del ejercicio. "
   ]
  },
  {
   "cell_type": "markdown",
   "metadata": {},
   "source": [
    "[Revisamos los datos nulos por columna](https://www.interactivechaos.com/python/scenario/calculo-del-numero-de-nan-por-columna-en-un-dataframe)"
   ]
  },
  {
   "cell_type": "code",
   "execution_count": 76,
   "metadata": {},
   "outputs": [
    {
     "data": {
      "text/plain": [
       "League         False\n",
       "Season         False\n",
       "Stage          False\n",
       "Player         False\n",
       "Team            True\n",
       "GP             False\n",
       "MIN            False\n",
       "FGM            False\n",
       "FGA            False\n",
       "3PM            False\n",
       "3PA            False\n",
       "FTM            False\n",
       "FTA            False\n",
       "TOV            False\n",
       "PF             False\n",
       "ORB            False\n",
       "DRB            False\n",
       "REB            False\n",
       "AST            False\n",
       "STL            False\n",
       "BLK            False\n",
       "PTS            False\n",
       "birth_year      True\n",
       "birth_month     True\n",
       "birth_date      True\n",
       "height          True\n",
       "height_cm       True\n",
       "weight_lb       True\n",
       "weight_kg       True\n",
       "nationality     True\n",
       "high_school     True\n",
       "dtype: bool"
      ]
     },
     "execution_count": 76,
     "metadata": {},
     "output_type": "execute_result"
    }
   ],
   "source": [
    "data_frame.isnull().any() # Revisamos que columnas contienen valores nulos. "
   ]
  },
  {
   "cell_type": "code",
   "execution_count": 53,
   "metadata": {},
   "outputs": [
    {
     "data": {
      "text/plain": [
       "League             0\n",
       "Season             0\n",
       "Stage              0\n",
       "Player             0\n",
       "Team              11\n",
       "GP                 0\n",
       "MIN                0\n",
       "FGM                0\n",
       "FGA                0\n",
       "3PM                0\n",
       "3PA                0\n",
       "FTM                0\n",
       "FTA                0\n",
       "TOV                0\n",
       "PF                 0\n",
       "ORB                0\n",
       "DRB                0\n",
       "REB                0\n",
       "AST                0\n",
       "STL                0\n",
       "BLK                0\n",
       "PTS                0\n",
       "birth_year       319\n",
       "birth_month      319\n",
       "birth_date       319\n",
       "height            74\n",
       "height_cm         74\n",
       "weight_lb       4566\n",
       "weight_kg       4566\n",
       "nationality        7\n",
       "high_school    30247\n",
       "dtype: int64"
      ]
     },
     "execution_count": 53,
     "metadata": {},
     "output_type": "execute_result"
    }
   ],
   "source": [
    "data_frame.isnull().sum() # Calcula los datos nulos por columna."
   ]
  },
  {
   "cell_type": "markdown",
   "metadata": {},
   "source": [
    "Por lo que para la columna de Team, birth_year, birth_month, birth_date, height, height_cm, weight_lb, weight_kg, nationality y high_school contamos con datos nulos NaN o None. Proximamente se tomará decisión si de eliminar alguna columna dado a que ofrece poca información o no es significativo para el problema. "
   ]
  },
  {
   "cell_type": "code",
   "execution_count": 54,
   "metadata": {},
   "outputs": [
    {
     "data": {
      "text/plain": [
       "40502"
      ]
     },
     "execution_count": 54,
     "metadata": {},
     "output_type": "execute_result"
    }
   ],
   "source": [
    "# El total de datos nulos en el data_frame es: \n",
    "\n",
    "data_frame.isnull().sum().sum()"
   ]
  },
  {
   "cell_type": "markdown",
   "metadata": {},
   "source": [
    "* **Clasificación de los datos.** "
   ]
  },
  {
   "cell_type": "code",
   "execution_count": 67,
   "metadata": {},
   "outputs": [
    {
     "data": {
      "text/plain": [
       "array(['NBA', 'Euroleague', 'Israeli-BSL', 'Argentinian-Liga-A',\n",
       "       'Australian-NBL', 'Austrian-A-Bundesliga', 'Balkan-BIL',\n",
       "       'Belarusian-BPL', 'Belgium-Scooore-League', 'Bosnian-BiH-Liga',\n",
       "       'Brazilian-NBB', 'British-BBL', 'Bulgarian-NBL', 'Canadian-NBL',\n",
       "       'Chinese-CBA', 'Croatian-A-1-Liga', 'Czech-NBL',\n",
       "       'Danish-Basketligaen', 'Estonian-Latvian-Basketball-League',\n",
       "       'Eurocup', 'FIBA-Europe-Cup', 'Finnish-Korisliiga',\n",
       "       'French-Jeep-Elite', 'Georgian-Super-Liga', 'German-BBL',\n",
       "       'Greek-HEBA-A1', 'Hungarian-NBIA', 'Italian-Lega-Basket-Serie-A',\n",
       "       'Japanese-BLeague', 'Kosovo-FBK', 'Lebanese-Division-A',\n",
       "       'Lithuanian-LKL', 'Luxembourg-Total-League',\n",
       "       'Macedonian-Superleague', 'Mexican-LNBP', 'Netherlands-DBL',\n",
       "       'New-Zealand-NBL', 'Norwegian-BLNO', 'Polish-TBL',\n",
       "       'Romanian-Divizia-A', 'Serbian-KLS', 'Slovakian-Extraliga',\n",
       "       'Slovenian-SKL', 'South-Korean-KBL', 'Spanish-ACB',\n",
       "       'Swedish-Basketligan', 'Swiss-LNA', 'Turkish-BSL',\n",
       "       'Ukrainian-Superleague', 'Balkan-BIBL'], dtype=object)"
      ]
     },
     "execution_count": 67,
     "metadata": {},
     "output_type": "execute_result"
    }
   ],
   "source": [
    "data_frame.League.unique() # Creamos un clasificador en base a la columna. "
   ]
  },
  {
   "cell_type": "markdown",
   "metadata": {},
   "source": [
    "El paso siguiente es crear agrupaciones de datos por liga de basketball, para efectos del ejercicio, agrupamos las que tienen más relevancia para nosotros revisar. "
   ]
  },
  {
   "cell_type": "code",
   "execution_count": 69,
   "metadata": {},
   "outputs": [],
   "source": [
    "#Agrupamos los valores de la liga NBA y los guardamos en un archivo csv. \n",
    "clase_NBA= data_frame[data_frame['League']=='NBA']\n",
    "clase_NBA.to_csv('Solo_NBA.csv', index=False)"
   ]
  },
  {
   "cell_type": "code",
   "execution_count": 70,
   "metadata": {},
   "outputs": [],
   "source": [
    "#Agrupamos los valores de la liga Euroleague y los guardamos en un archivo csv. \n",
    "clase_EuroL = data_frame[data_frame['League']=='Euroleague']\n",
    "\n",
    "clase_EuroL.to_csv('Solo_Euroleague.csv', index=False)"
   ]
  },
  {
   "cell_type": "code",
   "execution_count": 71,
   "metadata": {},
   "outputs": [],
   "source": [
    "#Agrupamos los valores de la liga Mexican-LNBP y los guardamos en un archivo csv. \n",
    "clase_MexicanL = data_frame[data_frame['League']=='Mexican-LNBP']\n",
    "\n",
    "clase_MexicanL.to_csv('Solo_MexicanLeague.csv', index=False)"
   ]
  },
  {
   "cell_type": "code",
   "execution_count": null,
   "metadata": {},
   "outputs": [],
   "source": []
  },
  {
   "cell_type": "markdown",
   "metadata": {},
   "source": [
    "#### Pregunta de interés y extras: "
   ]
  },
  {
   "cell_type": "markdown",
   "metadata": {},
   "source": [
    "* ¿Para que me puede servir estas agrupaciones para la práctica siguiente?"
   ]
  },
  {
   "cell_type": "markdown",
   "metadata": {},
   "source": [
    "R = Estas agrupaciones nos van a servir para una técnica de clasificación en la que podemos dinstiguir de las distintas agrupaciones que hay. A su vez, nos podrían servir para filtrar el problema y resolver objetivos secundarios por agrupaciones. "
   ]
  },
  {
   "cell_type": "markdown",
   "metadata": {},
   "source": [
    "* Investigar los siguientes comandos: ?df.dropna() ?df.astype\n",
    "\n",
    "R= El comando [df.dropna()](https://www.interactivechaos.com/manual/tutorial-de-pandas/el-metodo-dropna#:~:text=El%20m%C3%A9todo%20dropna%20permite%2C%20de,dejar%20solo%20aquellos%20no%20nulos.&text=Vemos%20c%C3%B3mo%20ninguna%20fila%20se,ellas%20todos%20los%20elementos%20nulos.) permite, de una forma muy conveniente, filtrar los valores de una estructura de datos pandas para dejar solo aquellos no nulos. El comando [df.astype()](https://www.geeksforgeeks.org/python-pandas-dataframe-astype/) nos permite convertir a un tipo de categoria a otra en pandas. \n",
    "\n"
   ]
  },
  {
   "cell_type": "code",
   "execution_count": null,
   "metadata": {},
   "outputs": [],
   "source": []
  }
 ],
 "metadata": {
  "kernelspec": {
   "display_name": "Python 3",
   "language": "python",
   "name": "python3"
  },
  "language_info": {
   "codemirror_mode": {
    "name": "ipython",
    "version": 3
   },
   "file_extension": ".py",
   "mimetype": "text/x-python",
   "name": "python",
   "nbconvert_exporter": "python",
   "pygments_lexer": "ipython3",
   "version": "3.8.3"
  }
 },
 "nbformat": 4,
 "nbformat_minor": 4
}
