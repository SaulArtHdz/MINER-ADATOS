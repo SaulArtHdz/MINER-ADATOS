{
 "cells": [
  {
   "cell_type": "markdown",
   "metadata": {},
   "source": [
    "\n",
    "## Mínería de datos 002 \n",
    "### Saúl Arath Hernández Hernández - Matrícula: 1815642"
   ]
  },
  {
   "cell_type": "markdown",
   "metadata": {},
   "source": [
    "* **Ejercicio 1:** Realiza una variable con tu matricula y realiza una secuencia de imprimir con tu nombre y tu matricula concatenados.\n",
    "\n",
    "[Concatenar en Python](https://j2logo.com/como-concatenar-y-formatear-strings/)"
   ]
  },
  {
   "cell_type": "code",
   "execution_count": null,
   "metadata": {},
   "outputs": [],
   "source": [
    "nombre = str(input(\"Ingrese su nombre completo: \"))\n",
    "matricula = int(input(\"Ingrese su número de matrícula: \"))\n",
    "\n",
    "print('\\n{} {}'.format(nombre,matricula))"
   ]
  },
  {
   "cell_type": "markdown",
   "metadata": {},
   "source": [
    "* **Ejercicio 2:** Pidiendo el input del usuario pide dos números y crea una pequeña calculadora con los operadores básicos de suma, resta, multiplicación, división, y exponente."
   ]
  },
  {
   "cell_type": "code",
   "execution_count": 1,
   "metadata": {},
   "outputs": [
    {
     "name": "stdout",
     "output_type": "stream",
     "text": [
      "\n",
      "    ************\n",
      "    Calculadora\n",
      "    ************\n",
      "    Menu\n",
      "    1) Suma\n",
      "    2) Resta\n",
      "    3) Multiplicacion\n",
      "    4) Division\n",
      "    5) Exponente\n",
      "    6) Salir\n",
      "\n",
      "Selecione Opcion: 5\n",
      "\n",
      "Ingrese Numero: 1\n",
      "Ingrese Otro Numero: 2\n",
      "El exponente es:  1\n",
      "\n",
      "    ************\n",
      "    Calculadora\n",
      "    ************\n",
      "    Menu\n",
      "    1) Suma\n",
      "    2) Resta\n",
      "    3) Multiplicacion\n",
      "    4) Division\n",
      "    5) Exponente\n",
      "    6) Salir\n",
      "\n",
      "Selecione Opcion: 6\n",
      "Fin del programa\n"
     ]
    }
   ],
   "source": [
    "def menu(): \n",
    "    print(\"\"\"\\n    ************\n",
    "    Calculadora\n",
    "    ************\n",
    "    Menu\n",
    "    1) Suma\n",
    "    2) Resta\n",
    "    3) Multiplicacion\n",
    "    4) Division\n",
    "    5) Exponente\n",
    "    6) Salir\"\"\")\n",
    "\n",
    "menu()    \n",
    "x = int(input(\"\\nSelecione Opcion: \"))\n",
    "\n",
    "while(x > 0 and x <6):    \n",
    "    a = int(input(\"\\nIngrese Numero: \"))\n",
    "    b = int(input(\"Ingrese Otro Numero: \"))\n",
    "    if (x==1):\n",
    "        print (\"La Suma es: \", a+b)\n",
    "        menu()\n",
    "        x = int(input(\"\\nSelecione Opcion: \"))\n",
    "    elif(x==2):\n",
    "        print (\"La Resta es: \",a-b)\n",
    "        menu()\n",
    "        x = int(input(\"\\nSelecione Opcion: \"))\n",
    "    elif(x==3):\n",
    "        print (\"La Multiplicacion es: \",a*b)\n",
    "        menu()\n",
    "        x = int(input(\"\\nSelecione Opcion: \"))\n",
    "    elif(x==4):\n",
    "        print (\"La Division es: \", float(a/b))\n",
    "        menu()\n",
    "        x = int(input(\"\\nSelecione Opcion: \"))\n",
    "    elif(x==5):\n",
    "        print (\"El exponente es: \", a**b)\n",
    "        menu()\n",
    "        x = int(input(\"\\nSelecione Opcion: \"))\n",
    "\n",
    "print(\"Fin del programa\")"
   ]
  },
  {
   "cell_type": "markdown",
   "metadata": {},
   "source": [
    "* **Ejercicio 3:** Con loop while o for, realiza una lista de 10 numeros multiplos de 3, y después realiza una función de loop que sume todos los números dentro del arreglo."
   ]
  },
  {
   "cell_type": "code",
   "execution_count": 14,
   "metadata": {},
   "outputs": [
    {
     "name": "stdout",
     "output_type": "stream",
     "text": [
      "[3, 6, 9, 12, 15, 18, 21, 24, 27, 30]\n",
      "\n",
      "La suma de los valores de la lista es: 165\n"
     ]
    }
   ],
   "source": [
    "'Multiplos de 3'\n",
    "\n",
    "lista1 = []\n",
    " \n",
    "for i in range(1,11):\n",
    "    lista1.append(i*3)\n",
    "    \n",
    "print(lista1)\n",
    "\n",
    "suma = 0\n",
    "for i in lista1:\n",
    "    suma=suma+i\n",
    "print(\"\\nLa suma de los valores de la lista es:\",suma)  "
   ]
  },
  {
   "cell_type": "markdown",
   "metadata": {},
   "source": [
    "* **Ejercicio 4:** Con una función de if else, revisar si un número es par o es impar.\n",
    "Con una función de if else, revisar si un número es primo o no."
   ]
  },
  {
   "cell_type": "code",
   "execution_count": 17,
   "metadata": {},
   "outputs": [
    {
     "name": "stdout",
     "output_type": "stream",
     "text": [
      "Revisión de par - impar / primo o no primo: \n",
      "\n",
      "Ingrese un número para determinar si es par o impar: 6\n",
      "\n",
      "El número 6 es par\n",
      "\n",
      "Ingrese un número para determinar si es primo o no: 6\n",
      "\n",
      "El numero no es primo\n"
     ]
    }
   ],
   "source": [
    "print(\"Revisión de par - impar / primo o no primo: \\n\")\n",
    "var = int(input(\"Ingrese un número para determinar si es par o impar: \"))\n",
    "\n",
    "if ((var % 2 )== 0):\n",
    "    print('\\nEl número {} es par'.format(var))\n",
    "else:\n",
    "    print('\\nEl número {} es impar'.format(var))\n",
    "\n",
    "var = int(input(\"\\nIngrese un número para determinar si es primo o no: \"))\n",
    "\n",
    "z = 0\n",
    "\n",
    "for i in range(2, var):\n",
    "    if var % i == 0:\n",
    "        z = z + 1\n",
    "    else:\n",
    "        continue\n",
    "        \n",
    "if z > 0:\n",
    "    print(\"\\nEl numero no es primo\")\n",
    "elif z == 0:\n",
    "    print(\"\\nEl numero es primo\")\n",
    "    "
   ]
  },
  {
   "cell_type": "markdown",
   "metadata": {},
   "source": [
    "* **Ejercicio 5:** Utilizando diferentes clases en python, crea una calculadora con los operadores básicos de suma, resta, multiplicación, división, y exponente."
   ]
  },
  {
   "cell_type": "code",
   "execution_count": 28,
   "metadata": {},
   "outputs": [
    {
     "name": "stdout",
     "output_type": "stream",
     "text": [
      "Introduzca el primer valor: 2\n",
      "Introduzca el segundo valor: 2\n",
      "\n",
      "La suma es:  4\n",
      "La resta es:  0\n",
      "La multiplicación es:  4\n",
      "La división es:  1.0\n",
      "El exponente es:  4\n"
     ]
    }
   ],
   "source": [
    "x = int(input(\"Introduzca el primer valor: \"))\n",
    "y = int(input(\"Introduzca el segundo valor: \"))\n",
    "\n",
    "def suma(a,b):\n",
    "    sum = a+b\n",
    "    print(\"\\nLa suma es: \",sum)\n",
    "def resta(a,b):\n",
    "    resta = a-b\n",
    "    print(\"La resta es: \",resta)\n",
    "def mult(a,b):\n",
    "    mult = a*b\n",
    "    print(\"La multiplicación es: \",mult)\n",
    "def div(a,b):\n",
    "    div=float(a/b)\n",
    "    print(\"La división es: \",div)\n",
    "def exp(a,b):\n",
    "    exp=a**b\n",
    "    print(\"El exponente es: \",exp)\n",
    "    \n",
    "\n",
    "suma(x,y)\n",
    "resta(x,y)\n",
    "mult(x,y)\n",
    "div(x,y)\n",
    "exp(x,y)"
   ]
  },
  {
   "cell_type": "markdown",
   "metadata": {},
   "source": [
    "**EJERCICIOS CON TUPLAS** "
   ]
  },
  {
   "cell_type": "markdown",
   "metadata": {},
   "source": [
    "* Crear una variable flotante, integer, boleana y compleja e imprimir el tipo de variable que es."
   ]
  },
  {
   "cell_type": "code",
   "execution_count": 1,
   "metadata": {},
   "outputs": [
    {
     "name": "stdout",
     "output_type": "stream",
     "text": [
      "La primera variable es  <class 'float'>\n",
      "La segunda variable es  <class 'int'>\n",
      "La tercera variable es  <class 'bool'>\n",
      "La cuarta variable es  <class 'complex'>\n"
     ]
    }
   ],
   "source": [
    "var1 = 0.5\n",
    "var2 = 100\n",
    "var3 = True\n",
    "var4 = 10+2j\n",
    "\n",
    "print(\"La primera variable es \", type(var1))\n",
    "print(\"La segunda variable es \", type(var2))\n",
    "print(\"La tercera variable es \", type(var3))\n",
    "print(\"La cuarta variable es \", type(var4))"
   ]
  },
  {
   "cell_type": "markdown",
   "metadata": {},
   "source": [
    "* Crear una tupla con valores enteros imprimir el primer y ultimo valor."
   ]
  },
  {
   "cell_type": "code",
   "execution_count": 35,
   "metadata": {},
   "outputs": [
    {
     "name": "stdout",
     "output_type": "stream",
     "text": [
      "El primer valor de la tupla es 1 y el ultimo valor de la tupla es 10 \n"
     ]
    }
   ],
   "source": [
    "tuple1 = (1,2,3,4,5,6,7,8,9,10)\n",
    "print(\"El primer valor de la tupla es %d y el ultimo valor de la tupla es %d \" %(tuple1[0], tuple1[-1]))"
   ]
  },
  {
   "cell_type": "markdown",
   "metadata": {},
   "source": [
    "* Crear dos variables con la longitud de ambas listas nuevas e imprimir las variables.\n",
    "\n",
    "[Concatenar tuplas](https://stackoverrun.com/es/q/11571602)"
   ]
  },
  {
   "cell_type": "code",
   "execution_count": 32,
   "metadata": {},
   "outputs": [
    {
     "name": "stdout",
     "output_type": "stream",
     "text": [
      "('Me', 'llamo', 'Saúl', 1, 2, 3, 4, 5, 6, 7, 8, 9, 10)\n"
     ]
    }
   ],
   "source": [
    "tuplest = ('Me', 'llamo', 'Saúl')\n",
    "sumtuple= tuplest+tuple1\n",
    "print(sumtuple)"
   ]
  },
  {
   "cell_type": "markdown",
   "metadata": {},
   "source": [
    "* Verificar si una variable existe dentro de la tupla."
   ]
  },
  {
   "cell_type": "code",
   "execution_count": 35,
   "metadata": {},
   "outputs": [
    {
     "name": "stdout",
     "output_type": "stream",
     "text": [
      "Ingrese la variable a validad dentro de la tupla: Hola\n",
      "\n",
      "La variable Hola no se encuentra dentro de la tupla\n"
     ]
    }
   ],
   "source": [
    "check = input(\"Ingrese la variable a validad dentro de la tupla: \")\n",
    "\n",
    "if check in sumtuple:\n",
    "    print(\"\\nLa variable\",check,\"se encuentra dentro de la tupla\")\n",
    "else:\n",
    "    print(\"\\nLa variable\",check,\"no se encuentra dentro de la tupla\")"
   ]
  },
  {
   "cell_type": "markdown",
   "metadata": {},
   "source": [
    "**EJERCICIOS CON LISTAS**"
   ]
  },
  {
   "cell_type": "markdown",
   "metadata": {},
   "source": [
    "* Crear una lista con 40 elementos aleatorios enteros."
   ]
  },
  {
   "cell_type": "code",
   "execution_count": 117,
   "metadata": {},
   "outputs": [
    {
     "name": "stdout",
     "output_type": "stream",
     "text": [
      "La lista tiene los valores:\n",
      "[30, 92, 71, 12, 48, 8, 48, 45, 16, 78, 13, 69, 48, 35, 39, 76, 77, 4, 60, 7, 72, 68, 66, 22, 89, 18, 100, 43, 2, 2, 10, 50, 67, 40, 77, 6, 24, 59, 26, 71]\n"
     ]
    }
   ],
   "source": [
    "import random as rand\n",
    "\n",
    "lista_rand=[]\n",
    "for i in range(1,41):\n",
    "    lista_rand.append(rand.randint(1,100))\n",
    "print('La lista tiene los valores:\\n{}'.format(lista_rand))"
   ]
  },
  {
   "cell_type": "markdown",
   "metadata": {},
   "source": [
    "* Con una funcion (def) crear dos listas nuevas a partir de la lista creada por numeros aleatorios, en la cual en una esten los elementos pares, y en la otra los elementos impares."
   ]
  },
  {
   "cell_type": "code",
   "execution_count": 89,
   "metadata": {},
   "outputs": [
    {
     "name": "stdout",
     "output_type": "stream",
     "text": [
      "Lista de pares:  [62, 36, 18, 58, 12, 2, 6, 66, 96, 36, 78, 60, 90, 90, 30, 38, 64, 18]\n",
      "Lista de impares:  [11, 97, 43, 25, 49, 81, 25, 49, 67, 77, 13, 25, 17, 81, 37, 93, 47, 81, 53, 67, 29, 65]\n"
     ]
    }
   ],
   "source": [
    "lista_par=[]\n",
    "lista_impar=[]\n",
    "def clasif(list):\n",
    "    for i in list:\n",
    "        if i%2==0:\n",
    "            lista_par.append(i)\n",
    "        else:\n",
    "            lista_impar.append(i)\n",
    "    \n",
    "    print(\"Lista de pares: \", lista_par)\n",
    "    print(\"Lista de impares: \", lista_impar)\n",
    "    \n",
    "clasif(lista_rand)"
   ]
  },
  {
   "cell_type": "markdown",
   "metadata": {},
   "source": [
    "* Crear dos variables con la longitud de ambas listas nuevas e imprimir las variables."
   ]
  },
  {
   "cell_type": "code",
   "execution_count": 93,
   "metadata": {},
   "outputs": [
    {
     "name": "stdout",
     "output_type": "stream",
     "text": [
      "La longitud de la lista par es de:  18\n",
      "La longitud de la lista impar es de:  22\n"
     ]
    }
   ],
   "source": [
    "x=len(lista_par)\n",
    "y=len(lista_impar)\n",
    "\n",
    "print(\"La longitud de la lista par es de: \",x)\n",
    "print(\"La longitud de la lista impar es de: \",y)\n"
   ]
  },
  {
   "cell_type": "markdown",
   "metadata": {},
   "source": [
    "* Ordenar los elementos de la lista par de mayor a menor, y los de la lista impar de menor a mayor."
   ]
  },
  {
   "cell_type": "code",
   "execution_count": 94,
   "metadata": {
    "scrolled": true
   },
   "outputs": [
    {
     "name": "stdout",
     "output_type": "stream",
     "text": [
      "La lista de mayor a menor (par) es:  [96, 90, 90, 78, 66, 64, 62, 60, 58, 38, 36, 36, 30, 18, 18, 12, 6, 2]\n",
      "La lista de menor a mayor (impar) es:  [11, 13, 17, 25, 25, 25, 29, 37, 43, 47, 49, 49, 53, 65, 67, 67, 77, 81, 81, 81, 93, 97]\n"
     ]
    }
   ],
   "source": [
    "lista_par.sort(reverse=True)\n",
    "lista_impar.sort()\n",
    "\n",
    "print(\"La lista de mayor a menor (par) es: \",lista_par)\n",
    "print(\"La lista de menor a mayor (impar) es: \",lista_impar)"
   ]
  },
  {
   "cell_type": "markdown",
   "metadata": {},
   "source": [
    "* Utilizar al menos cuatro de las funciones de listas en python en la lista original de 40 elementos."
   ]
  },
  {
   "cell_type": "code",
   "execution_count": 118,
   "metadata": {},
   "outputs": [
    {
     "name": "stdout",
     "output_type": "stream",
     "text": [
      "De la lista:\n",
      "[30, 92, 71, 12, 48, 8, 48, 45, 16, 78, 13, 69, 48, 35, 39, 76, 77, 4, 60, 7, 72, 68, 66, 22, 89, 18, 100, 43, 2, 2, 10, 50, 67, 40, 77, 6, 24, 59, 26, 71]\n",
      "\n",
      "INSERTAR: \n",
      "\n",
      "Lista con con el nuevo elemento:  ['NUEVO VALOR', 30, 92, 71, 12, 48, 8, 48, 45, 16, 78, 13, 69, 48, 35, 39, 76, 77, 4, 60, 7, 72, 68, 66, 22, 89, 18, 100, 43, 2, 2, 10, 50, 67, 40, 77, 6, 24, 59, 26, 71]\n",
      "\n",
      "REMOVER: \n",
      "\n",
      "Lista con el valor removida en su primer aparición  [30, 92, 71, 12, 48, 8, 48, 45, 16, 78, 13, 69, 48, 35, 39, 76, 77, 4, 60, 7, 72, 68, 66, 22, 89, 18, 100, 43, 2, 2, 10, 50, 67, 40, 77, 6, 24, 59, 26, 71]\n",
      "\n",
      "CANTIDAD: \n",
      "\n",
      "La cantidad de elementos de la lista anterior es:  40\n",
      "\n",
      "ELIMINAR: \n",
      "\n",
      "Lista eliminada: []\n"
     ]
    }
   ],
   "source": [
    "print(\"De la lista:\\n{}\".format(lista_rand))\n",
    "\n",
    "print(\"\\nINSERTAR: \\n\")\n",
    "lista_rand.insert(0, 'NUEVO VALOR')\n",
    "print(\"Lista con con el nuevo elemento: \", lista_rand)\n",
    "\n",
    "print(\"\\nREMOVER: \\n\")\n",
    "lista_rand.remove('NUEVO VALOR')\n",
    "print(\"Lista con el valor removida en su primer aparición \",lista_rand)\n",
    "\n",
    "print(\"\\nCANTIDAD: \\n\")\n",
    "print(\"La cantidad de elementos de la lista anterior es: \", len(lista_rand))\n",
    "\n",
    "print(\"\\nELIMINAR: \\n\")\n",
    "lista_rand.clear()\n",
    "print(\"Lista eliminada:\", lista_rand)"
   ]
  },
  {
   "cell_type": "markdown",
   "metadata": {},
   "source": [
    "**EJERCICIOS CON DICCIONARIOS**"
   ]
  },
  {
   "cell_type": "markdown",
   "metadata": {},
   "source": [
    "* Crear un diccionario de 6 personas que conozcas con su primer nombre y su edad."
   ]
  },
  {
   "cell_type": "code",
   "execution_count": 119,
   "metadata": {},
   "outputs": [
    {
     "name": "stdout",
     "output_type": "stream",
     "text": [
      "{'Saúl': 20, 'Noé': 15, 'Hugo': 46, 'Rosy': 42, 'Akamaru': 1, 'Naruto': 32}\n"
     ]
    }
   ],
   "source": [
    "DIC1={\"Saúl\":20,\"Noé\":15,\"Hugo\":46,\"Rosy\":42,\"Akamaru\":1,\"Naruto\":32}\n",
    "print(DIC1)"
   ]
  },
  {
   "cell_type": "markdown",
   "metadata": {},
   "source": [
    "* Crear una lista con los valores de la edad y reacomodar la lista de menor a mayor valor."
   ]
  },
  {
   "cell_type": "code",
   "execution_count": 120,
   "metadata": {},
   "outputs": [
    {
     "name": "stdout",
     "output_type": "stream",
     "text": [
      "Las edades del diccionario son:  dict_values([20, 15, 46, 42, 1, 32])\n",
      "\n",
      "Las edades ordenadas son:  [1, 15, 20, 32, 42, 46]\n"
     ]
    }
   ],
   "source": [
    "ld1=DIC1.values()\n",
    "print(\"Las edades del diccionario son: \",ld1)\n",
    "print(\"\\nLas edades ordenadas son: \", sorted(ld1))"
   ]
  },
  {
   "cell_type": "markdown",
   "metadata": {},
   "source": [
    "* Usando el diccionario y un loop, imprimir solo los nombres."
   ]
  },
  {
   "cell_type": "code",
   "execution_count": 128,
   "metadata": {},
   "outputs": [
    {
     "name": "stdout",
     "output_type": "stream",
     "text": [
      "Saúl\n",
      "Noé\n",
      "Hugo\n",
      "Rosy\n",
      "Akamaru\n",
      "Naruto\n"
     ]
    }
   ],
   "source": [
    "for i in DIC1:\n",
    "    print(i)"
   ]
  },
  {
   "cell_type": "markdown",
   "metadata": {},
   "source": [
    "* Añadir dos personas nuevas a tu diccionario, incluyendo edad."
   ]
  },
  {
   "cell_type": "code",
   "execution_count": 129,
   "metadata": {},
   "outputs": [
    {
     "name": "stdout",
     "output_type": "stream",
     "text": [
      "{'Saúl': 20, 'Noé': 15, 'Hugo': 46, 'Rosy': 42, 'Akamaru': 1, 'Naruto': 32, 'Sech': 25, 'Mauri': 22}\n"
     ]
    }
   ],
   "source": [
    "DIC1[\"Sech\"]=25\n",
    "DIC1[\"Mauri\"]=22\n",
    "print(DIC1)"
   ]
  },
  {
   "cell_type": "markdown",
   "metadata": {},
   "source": [
    "**EJERCICIOS CON SETS**"
   ]
  },
  {
   "cell_type": "markdown",
   "metadata": {},
   "source": [
    "* Crea un set con 100 numeros aleatorios enteros del 1 al 25."
   ]
  },
  {
   "cell_type": "code",
   "execution_count": 143,
   "metadata": {},
   "outputs": [
    {
     "name": "stdout",
     "output_type": "stream",
     "text": [
      "El set es:  {1, 2, 3, 4, 5, 6, 7, 8, 9, 10, 11, 12, 13, 14, 15, 16, 17, 18, 19, 20, 21, 22, 23, 24, 25}\n"
     ]
    }
   ],
   "source": [
    "set1=set()\n",
    "for i in range(1,100):\n",
    "    set1.add(rand.randint(1,25))\n",
    "print(\"El set es: \",set1)"
   ]
  },
  {
   "cell_type": "markdown",
   "metadata": {},
   "source": [
    "* Comprueba la longitud de tu set."
   ]
  },
  {
   "cell_type": "code",
   "execution_count": 144,
   "metadata": {},
   "outputs": [
    {
     "name": "stdout",
     "output_type": "stream",
     "text": [
      "La longitud del set es de: 25\n"
     ]
    }
   ],
   "source": [
    "print(\"La longitud del set es de:\", len(set1))"
   ]
  },
  {
   "cell_type": "markdown",
   "metadata": {},
   "source": [
    "* Crea una lista de 5 numeros aleatorios del 1 al 10 y comprueba si cada valor aparece en el set inicial."
   ]
  },
  {
   "cell_type": "code",
   "execution_count": 147,
   "metadata": {},
   "outputs": [
    {
     "name": "stdout",
     "output_type": "stream",
     "text": [
      "[1, 5, 1, 6, 8]\n"
     ]
    },
    {
     "data": {
      "text/plain": [
       "True"
      ]
     },
     "execution_count": 147,
     "metadata": {},
     "output_type": "execute_result"
    }
   ],
   "source": [
    "lset1=[]\n",
    "for i in range (0,5):\n",
    "    lset1.append(rand.randint(1,10))\n",
    "ldef=lset1\n",
    "print (ldef)\n",
    "\n",
    "lset1[0] in set1\n",
    "lset1[1] in set1\n",
    "lset1[2] in set1\n",
    "lset1[3] in set1\n",
    "lset1[4] in set1"
   ]
  },
  {
   "cell_type": "code",
   "execution_count": null,
   "metadata": {},
   "outputs": [],
   "source": []
  }
 ],
 "metadata": {
  "kernelspec": {
   "display_name": "Python 3",
   "language": "python",
   "name": "python3"
  },
  "language_info": {
   "codemirror_mode": {
    "name": "ipython",
    "version": 3
   },
   "file_extension": ".py",
   "mimetype": "text/x-python",
   "name": "python",
   "nbconvert_exporter": "python",
   "pygments_lexer": "ipython3",
   "version": "3.8.3"
  }
 },
 "nbformat": 4,
 "nbformat_minor": 4
}
